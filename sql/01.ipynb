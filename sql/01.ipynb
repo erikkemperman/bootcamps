{
 "cells": [
  {
   "cell_type": "markdown",
   "metadata": {
    "slideshow": {
     "slide_type": "slide"
    }
   },
   "source": [
    "# Introduction to SQL with Python\n",
    "\n",
    "## Introduction and basic syntax"
   ]
  },
  {
   "cell_type": "markdown",
   "metadata": {
    "slideshow": {
     "slide_type": "slide"
    }
   },
   "source": [
    "### Topics"
   ]
  },
  {
   "cell_type": "markdown",
   "metadata": {
    "slideshow": {
     "slide_type": "-"
    }
   },
   "source": [
    "01. Introduction\n",
    "    * What is SQL and why use it\n",
    "    * Magic\n",
    "\n",
    "02. Basic syntax \n",
    "    * Connecting to our database\n",
    "    * Table commands : CREATE, DROP\n",
    "    * Simple queries : SELECT, WHERE, AND, OR, IN, ORDER\n",
    "    * INSERT, SELECT, UPDATE, DELETE\n",
    "    * More syntax : operators, LIKE, NULL, NOT\n",
    "\n",
    "03. Functions\n",
    "    * AVG(), COUNT(), SUM(), GROUP BY, DISTINCT\n",
    "\n",
    "04. Combining Tables\n",
    "    * JOIN"
   ]
  },
  {
   "cell_type": "code",
   "execution_count": null,
   "metadata": {
    "collapsed": true
   },
   "outputs": [],
   "source": []
  },
  {
   "cell_type": "markdown",
   "metadata": {
    "slideshow": {
     "slide_type": "slide"
    }
   },
   "source": [
    "### Introduction\n",
    "#### Why use a relational database?\n",
    "\n",
    "* relational data\n",
    "* concurrent access\n",
    "* largish dataset\n",
    "* advanced query language"
   ]
  },
  {
   "cell_type": "markdown",
   "metadata": {
    "slideshow": {
     "slide_type": "slide"
    }
   },
   "source": [
    "#### Different relational databases\n",
    "\n",
    "##### Server based:\n",
    "\n",
    "* Postrgresql\n",
    "* MySQL (MariaDB)\n",
    "* Oracle\n",
    "* MS SQL\n",
    "\n",
    "##### File based:\n",
    "\n",
    "* MS Access\n",
    "* Sqlite\n",
    "\n",
    "##### Big Data:\n",
    "\n",
    "* Google BigQuery"
   ]
  },
  {
   "cell_type": "markdown",
   "metadata": {
    "slideshow": {
     "slide_type": "slide"
    }
   },
   "source": [
    "#### Database Normalization\n",
    "\n",
    "> Database normalization, or simply normalization, is the process of organizing the columns (attributes) and tables (relations) of a relational database to reduce data redundancy and improve data integrity.\n",
    "\n",
    "First normal form enforces these criteria:\n",
    "\n",
    "* Eliminate repeating groups in individual tables.\n",
    "* Create a separate table for each set of related data.\n",
    "* Identify each set of related data with a primary key\n"
   ]
  },
  {
   "cell_type": "markdown",
   "metadata": {
    "slideshow": {
     "slide_type": "slide"
    }
   },
   "source": [
    "#### Customer Table\n",
    "\n",
    "| Customer ID | First Name | Surname   | Telephone Number |\n",
    "|-------------|------------|-----------|------------------|\n",
    "| 123         | Robert     | Ingram    | 555-861-2025     |\n",
    "| 456         | Jane       | Wright    | 555-403-1659     |\n",
    "| 789         | Maria      | Fernandez | 555-808-9633     |\n",
    "\n",
    "\n",
    "#### Customer Table with multiple Telephone numbers\n",
    "\n",
    "| Customer ID | First Name | Surname   | Telephone Number |\n",
    "|-------------|------------|-----------|---------------------------|\n",
    "| 123         | Robert     | Ingram    | 555-861-2025 |\n",
    "| 456         | Jane       | Wright    | 555-403-1659 555-776-4100 |\n",
    "| 789         | Maria      | Fernandez | 555-808-9633 | "
   ]
  },
  {
   "cell_type": "markdown",
   "metadata": {
    "slideshow": {
     "slide_type": "slide"
    }
   },
   "source": [
    "#### Customer Name\n",
    "\n",
    "| Customer ID | First Name | Surname   |\n",
    "|-------------|------------|-----------|\n",
    "| 123         | Robert     | Ingram    |\n",
    "| 456         | Jane       | Wright    |\n",
    "| 789         | Maria      | Fernandez |\n",
    "\n",
    "\n",
    "#### Customer Telephone Number\n",
    "\n",
    "| Customer ID | Telephone Number |\n",
    "|-------------|------------------|\n",
    "| 123         | 555-861-2025     |\n",
    "| 456         | 555-403-1659     |\n",
    "| 456         | 555-776-4100     |\n",
    "| 789         | 555-808-9633     |"
   ]
  },
  {
   "cell_type": "markdown",
   "metadata": {
    "slideshow": {
     "slide_type": "slide"
    }
   },
   "source": [
    "### Magic\n",
    "\n",
    "To simplify SQL handling we're going to use some magic.<br/>\n",
    "This is only available in notebooks, so you can't use this in Python scripts.<br>\n",
    "See the Pure_python notebook use see the examples without this magic."
   ]
  },
  {
   "cell_type": "markdown",
   "metadata": {
    "slideshow": {
     "slide_type": "fragment"
    }
   },
   "source": [
    "First make sure the extension is installed.<br/>\n",
    "This will generate some noise.<br/>\n",
    "This only needs to be done once on each Anaconda installation, comment the command once it's done."
   ]
  },
  {
   "cell_type": "code",
   "execution_count": null,
   "metadata": {
    "collapsed": false,
    "scrolled": true,
    "slideshow": {
     "slide_type": "-"
    }
   },
   "outputs": [],
   "source": [
    "# !pip install --user ipython-sql"
   ]
  },
  {
   "cell_type": "markdown",
   "metadata": {
    "slideshow": {
     "slide_type": "slide"
    }
   },
   "source": [
    "Load the extension so we can use the magic.<br/>\n",
    "This will probably result in a warning, which can be ignored."
   ]
  },
  {
   "cell_type": "code",
   "execution_count": null,
   "metadata": {
    "collapsed": false,
    "slideshow": {
     "slide_type": "fragment"
    }
   },
   "outputs": [],
   "source": [
    "%load_ext sql"
   ]
  },
  {
   "cell_type": "markdown",
   "metadata": {
    "slideshow": {
     "slide_type": "slide"
    }
   },
   "source": [
    "### Basic syntax\n",
    "#### Syntax pointers\n",
    "* Single line comment : '--'\n",
    "* Multi line comment : /\\* ... \\*/\n",
    "* Single '=' for equality\n",
    "* Using %%sql allows a multi-line statement\n",
    "* In statements with multiple tables, always specify the table"
   ]
  },
  {
   "cell_type": "markdown",
   "metadata": {
    "slideshow": {
     "slide_type": "slide"
    }
   },
   "source": [
    "#### Connecting\n",
    "\n",
    "Let's start by creating a database in memory.<br/>That means it isn't stored on disk, and will be lost when the notebook is closed.<br/>\n",
    "The output will show we're connected."
   ]
  },
  {
   "cell_type": "code",
   "execution_count": null,
   "metadata": {
    "collapsed": false,
    "slideshow": {
     "slide_type": "fragment"
    }
   },
   "outputs": [],
   "source": [
    "%sql sqlite://"
   ]
  },
  {
   "cell_type": "markdown",
   "metadata": {
    "slideshow": {
     "slide_type": "slide"
    }
   },
   "source": [
    "#### CREATE\n",
    "\n",
    "We'll start by creating a table 'writer' with 4 columns : <br/>\n",
    "first name, last name, year of birth and year of death (omitting the column types for now)<br/>"
   ]
  },
  {
   "cell_type": "code",
   "execution_count": null,
   "metadata": {
    "collapsed": false,
    "slideshow": {
     "slide_type": "fragment"
    }
   },
   "outputs": [],
   "source": [
    "%%sql\n",
    "\n",
    "-- This creates the table 'Writer' with its columns (without types)\n",
    "CREATE TABLE Writer (\n",
    "    FirstName,\n",
    "    LastName,\n",
    "    YearOfBirth,\n",
    "    YearOfDeath\n",
    ");"
   ]
  },
  {
   "cell_type": "markdown",
   "metadata": {
    "slideshow": {
     "slide_type": "slide"
    }
   },
   "source": [
    "#### DROP\n",
    "We can also drop tables.<br/>\n",
    "Make sure you know what you're doing!"
   ]
  },
  {
   "cell_type": "code",
   "execution_count": null,
   "metadata": {
    "collapsed": false,
    "slideshow": {
     "slide_type": "fragment"
    }
   },
   "outputs": [],
   "source": [
    "%sql DROP TABLE Writer;"
   ]
  },
  {
   "cell_type": "markdown",
   "metadata": {
    "slideshow": {
     "slide_type": "fragment"
    }
   },
   "source": [
    "Selecting from a non-existing table produces a \"no such table\" error."
   ]
  },
  {
   "cell_type": "code",
   "execution_count": null,
   "metadata": {
    "collapsed": false,
    "slideshow": {
     "slide_type": "fragment"
    }
   },
   "outputs": [],
   "source": [
    "try:\n",
    "    %sql SELECT * FROM Writer;\n",
    "except Exception as e:\n",
    "    print(e)"
   ]
  },
  {
   "cell_type": "code",
   "execution_count": null,
   "metadata": {
    "collapsed": false,
    "slideshow": {
     "slide_type": "skip"
    }
   },
   "outputs": [],
   "source": [
    "%%sql\n",
    "\n",
    "-- Recreate the table\n",
    "CREATE TABLE Writer (\n",
    "    FirstName,\n",
    "    LastName,\n",
    "    YearOfBirth,\n",
    "    YearOfDeath\n",
    ");"
   ]
  },
  {
   "cell_type": "markdown",
   "metadata": {
    "slideshow": {
     "slide_type": "slide"
    }
   },
   "source": [
    "#### INSERT\n",
    "Let's insert some data into the table."
   ]
  },
  {
   "cell_type": "code",
   "execution_count": null,
   "metadata": {
    "collapsed": false,
    "slideshow": {
     "slide_type": "fragment"
    }
   },
   "outputs": [],
   "source": [
    "%%sql\n",
    "\n",
    "-- Insert one row per statement\n",
    "INSERT INTO Writer VALUES\n",
    "    ('William', 'Shakespeare', NULL, 1516);\n"
   ]
  },
  {
   "cell_type": "code",
   "execution_count": null,
   "metadata": {
    "collapsed": false
   },
   "outputs": [],
   "source": [
    "%%sql\n",
    "\n",
    "-- Insert multiple rows in a single statement\n",
    "INSERT INTO Writer VALUES \n",
    "    ('Bertold', 'Brecht', 1898, 1956),\n",
    "    ('Ernest', 'Hemingway', 1899, 1961),\n",
    "    ('Oliver', 'Sacks', 1933, 2015), \n",
    "    ('Richard', 'Bird', 1943, NULL),\n",
    "    ('Hans Petter', 'Langtangen', 1962, NULL), \n",
    "    ('Jan Jacob', 'Slauerhoff', 1898, 1936),\n",
    "    ('William', 'Burroughs', 1914, 1987), \n",
    "    ('Ira', 'Kalet', 1944, NULL);"
   ]
  },
  {
   "cell_type": "markdown",
   "metadata": {
    "slideshow": {
     "slide_type": "slide"
    }
   },
   "source": [
    "#### SELECT\n",
    "Verify the data is indeed in the database"
   ]
  },
  {
   "cell_type": "code",
   "execution_count": null,
   "metadata": {
    "collapsed": false,
    "slideshow": {
     "slide_type": "fragment"
    }
   },
   "outputs": [],
   "source": [
    "%%sql\n",
    "\n",
    "SELECT *\n",
    "FROM Writer;"
   ]
  },
  {
   "cell_type": "markdown",
   "metadata": {
    "slideshow": {
     "slide_type": "slide"
    }
   },
   "source": [
    "#### SELECT\n",
    "\n",
    "__*__ selects all of the columns.<br/>\n",
    "Specify the column names for a subset."
   ]
  },
  {
   "cell_type": "code",
   "execution_count": null,
   "metadata": {
    "collapsed": false,
    "slideshow": {
     "slide_type": "fragment"
    }
   },
   "outputs": [],
   "source": [
    "%%sql \n",
    "\n",
    "SELECT FirstName, LastName \n",
    "FROM Writer;"
   ]
  },
  {
   "cell_type": "markdown",
   "metadata": {
    "slideshow": {
     "slide_type": "slide"
    }
   },
   "source": [
    "### Simple queries\n",
    "\n",
    "#### WHERE\n",
    "Suppose we only want writers with the first name William."
   ]
  },
  {
   "cell_type": "code",
   "execution_count": null,
   "metadata": {
    "collapsed": false,
    "slideshow": {
     "slide_type": "fragment"
    }
   },
   "outputs": [],
   "source": [
    "%%sql \n",
    "\n",
    "-- Notice the use of '=' instead of '==' \n",
    "SELECT * \n",
    "FROM Writer \n",
    "WHERE FirstName = 'William';"
   ]
  },
  {
   "cell_type": "markdown",
   "metadata": {
    "slideshow": {
     "slide_type": "slide"
    }
   },
   "source": [
    "#### AND\n",
    "Suppose we're not interested in just any William, but also want to filter on last name."
   ]
  },
  {
   "cell_type": "code",
   "execution_count": null,
   "metadata": {
    "collapsed": false,
    "slideshow": {
     "slide_type": "fragment"
    }
   },
   "outputs": [],
   "source": [
    "%%sql \n",
    "\n",
    "SELECT * \n",
    "FROM Writer \n",
    "WHERE FirstName = 'William' \n",
    "AND LastName = 'Shakespeare'; "
   ]
  },
  {
   "cell_type": "markdown",
   "metadata": {
    "slideshow": {
     "slide_type": "slide"
    }
   },
   "source": [
    "#### OR\n",
    "What if we want every writer with the first name 'Bertold' or 'Oliver'."
   ]
  },
  {
   "cell_type": "code",
   "execution_count": null,
   "metadata": {
    "collapsed": false,
    "slideshow": {
     "slide_type": "fragment"
    }
   },
   "outputs": [],
   "source": [
    "%%sql\n",
    "\n",
    "SELECT * \n",
    "FROM Writer \n",
    "WHERE FirstName = 'Bertold' \n",
    "OR FirstName = 'Oliver';"
   ]
  },
  {
   "cell_type": "markdown",
   "metadata": {
    "slideshow": {
     "slide_type": "slide"
    }
   },
   "source": [
    "#### IN\n",
    "When looking for a lot of matches, the query might become very long."
   ]
  },
  {
   "cell_type": "code",
   "execution_count": null,
   "metadata": {
    "collapsed": false,
    "slideshow": {
     "slide_type": "fragment"
    }
   },
   "outputs": [],
   "source": [
    "%%sql\n",
    "\n",
    "SELECT * \n",
    "FROM Writer \n",
    "WHERE FirstName IN ('Bertold', 'Oliver'); "
   ]
  },
  {
   "cell_type": "markdown",
   "metadata": {
    "slideshow": {
     "slide_type": "slide"
    }
   },
   "source": [
    "#### ORDER\n",
    "List all the writers, ordered by their first name."
   ]
  },
  {
   "cell_type": "code",
   "execution_count": null,
   "metadata": {
    "collapsed": false,
    "slideshow": {
     "slide_type": "fragment"
    }
   },
   "outputs": [],
   "source": [
    "%%sql\n",
    "\n",
    "SELECT * \n",
    "FROM Writer \n",
    "ORDER BY FirstName ASC; -- The default is ASC, in this case optional "
   ]
  },
  {
   "cell_type": "markdown",
   "metadata": {
    "slideshow": {
     "slide_type": "slide"
    }
   },
   "source": [
    "#### ORDER\n",
    "Reverse order is also possible with the DESC keyword."
   ]
  },
  {
   "cell_type": "code",
   "execution_count": null,
   "metadata": {
    "collapsed": false,
    "slideshow": {
     "slide_type": "fragment"
    }
   },
   "outputs": [],
   "source": [
    "%%sql\n",
    "\n",
    "SELECT * \n",
    "FROM Writer \n",
    "ORDER BY FirstName DESC;"
   ]
  },
  {
   "cell_type": "markdown",
   "metadata": {
    "slideshow": {
     "slide_type": "slide"
    }
   },
   "source": [
    "#### UPDATE\n",
    "Unfortunately we made a mistake, William Burroughs passed away in 1997, not 1987.<br/>"
   ]
  },
  {
   "cell_type": "code",
   "execution_count": null,
   "metadata": {
    "collapsed": false,
    "slideshow": {
     "slide_type": "fragment"
    }
   },
   "outputs": [],
   "source": [
    "%%sql\n",
    "\n",
    "-- Correct the data in a single row\n",
    "UPDATE Writer \n",
    "SET YearOfDeath = 1997 \n",
    "WHERE FirstName = 'William'\n",
    "AND LastName = 'Burroughs';\n",
    "\n",
    "-- Verify\n",
    "SELECT * from Writer WHERE LastName = 'Burroughs';"
   ]
  },
  {
   "cell_type": "markdown",
   "metadata": {
    "slideshow": {
     "slide_type": "slide"
    }
   },
   "source": [
    "#### DELETE\n",
    "It's also possible to delete rows.\n",
    "We'll start with a single row."
   ]
  },
  {
   "cell_type": "code",
   "execution_count": null,
   "metadata": {
    "collapsed": false,
    "slideshow": {
     "slide_type": "fragment"
    }
   },
   "outputs": [],
   "source": [
    "%%sql \n",
    "\n",
    "-- Delete all writers named 'Ernest Hemingway'\n",
    "DELETE FROM Writer \n",
    "WHERE FirstName = 'Ernest' \n",
    "AND LastName = 'Hemingway';"
   ]
  },
  {
   "cell_type": "code",
   "execution_count": null,
   "metadata": {
    "collapsed": false,
    "slideshow": {
     "slide_type": "slide"
    }
   },
   "outputs": [],
   "source": [
    "%sql SELECT * from Writer;"
   ]
  },
  {
   "cell_type": "markdown",
   "metadata": {
    "slideshow": {
     "slide_type": "slide"
    }
   },
   "source": [
    "Delete multiple rows."
   ]
  },
  {
   "cell_type": "code",
   "execution_count": null,
   "metadata": {
    "collapsed": false,
    "slideshow": {
     "slide_type": "fragment"
    }
   },
   "outputs": [],
   "source": [
    "%%sql \n",
    "\n",
    "-- Delete all writers with first name 'William';\n",
    "DELETE FROM Writer \n",
    "WHERE FirstName = 'William';\n",
    "\n",
    "-- Verify\n",
    "SELECT * FROM Writer;"
   ]
  },
  {
   "cell_type": "code",
   "execution_count": null,
   "metadata": {
    "collapsed": false,
    "slideshow": {
     "slide_type": "skip"
    }
   },
   "outputs": [],
   "source": [
    "%%sql \n",
    "\n",
    "-- Re-insert the deleted rows\n",
    "INSERT INTO Writer VALUES\n",
    "    ('William', 'Shakespeare', NULL, 1616),\n",
    "    ('William', 'Burroughs', 1914, 1997),\n",
    "    ('Ernest', 'Hemingway', 1899, 1961);"
   ]
  },
  {
   "cell_type": "markdown",
   "metadata": {
    "slideshow": {
     "slide_type": "slide"
    }
   },
   "source": [
    "### More syntax\n",
    "\n",
    "#### Operators\n",
    "SQL use the same comparison operators as Python (<, >, =)."
   ]
  },
  {
   "cell_type": "code",
   "execution_count": null,
   "metadata": {
    "collapsed": false,
    "slideshow": {
     "slide_type": "fragment"
    }
   },
   "outputs": [],
   "source": [
    "%%sql\n",
    "\n",
    "SELECT * \n",
    "FROM Writer \n",
    "WHERE YearOfDeath < 1960;"
   ]
  },
  {
   "cell_type": "markdown",
   "metadata": {
    "slideshow": {
     "slide_type": "slide"
    }
   },
   "source": [
    "#### Operators"
   ]
  },
  {
   "cell_type": "code",
   "execution_count": null,
   "metadata": {
    "collapsed": false,
    "slideshow": {
     "slide_type": "-"
    }
   },
   "outputs": [],
   "source": [
    "%%sql \n",
    "\n",
    "SELECT * \n",
    "FROM Writer \n",
    "WHERE YearOfDeath >= 1961;"
   ]
  },
  {
   "cell_type": "markdown",
   "metadata": {
    "slideshow": {
     "slide_type": "slide"
    }
   },
   "source": [
    "#### LIKE\n",
    "\n",
    "Use the LIKE operator in a WHERE clause to search for a specified pattern in a column.<br/>\n",
    "Use a '%' zero or more characters, '_' for a single character."
   ]
  },
  {
   "cell_type": "code",
   "execution_count": null,
   "metadata": {
    "collapsed": false,
    "slideshow": {
     "slide_type": "fragment"
    }
   },
   "outputs": [],
   "source": [
    "%%sql \n",
    "\n",
    "-- Search for last names starting with 'slauer' (case-insensitive)\n",
    "SELECT * \n",
    "FROM Writer \n",
    "WHERE LastName LIKE 'slauer%';"
   ]
  },
  {
   "cell_type": "markdown",
   "metadata": {
    "slideshow": {
     "slide_type": "slide"
    }
   },
   "source": [
    "#### LIKE"
   ]
  },
  {
   "cell_type": "code",
   "execution_count": null,
   "metadata": {
    "collapsed": false,
    "scrolled": true,
    "slideshow": {
     "slide_type": "fragment"
    }
   },
   "outputs": [],
   "source": [
    "%%sql \n",
    "\n",
    "-- Search for last names containing an 'e'\n",
    "SELECT * \n",
    "FROM Writer \n",
    "WHERE LastName LIKE '%e%';"
   ]
  },
  {
   "cell_type": "markdown",
   "metadata": {
    "slideshow": {
     "slide_type": "slide"
    }
   },
   "source": [
    "#### NULL\n",
    "Find all the still living writers, i.e. with no year of death."
   ]
  },
  {
   "cell_type": "code",
   "execution_count": null,
   "metadata": {
    "collapsed": false,
    "slideshow": {
     "slide_type": "fragment"
    }
   },
   "outputs": [],
   "source": [
    "%%sql \n",
    "\n",
    "-- NULL doesn't work with '='\n",
    "SELECT * \n",
    "FROM Writer \n",
    "WHERE YearOfDeath = NULL;"
   ]
  },
  {
   "cell_type": "markdown",
   "metadata": {
    "slideshow": {
     "slide_type": "slide"
    }
   },
   "source": [
    "#### NULL"
   ]
  },
  {
   "cell_type": "code",
   "execution_count": null,
   "metadata": {
    "collapsed": false,
    "slideshow": {
     "slide_type": "fragment"
    }
   },
   "outputs": [],
   "source": [
    "%%sql \n",
    "\n",
    "-- For NULL 'IS' is needed\n",
    "SELECT * \n",
    "FROM Writer \n",
    "WHERE YearOfDeath IS NULL;"
   ]
  },
  {
   "cell_type": "markdown",
   "metadata": {
    "slideshow": {
     "slide_type": "slide"
    }
   },
   "source": [
    "#### NOT\n",
    "Find all the writers that didn't die in 1936."
   ]
  },
  {
   "cell_type": "code",
   "execution_count": null,
   "metadata": {
    "collapsed": false,
    "slideshow": {
     "slide_type": "fragment"
    }
   },
   "outputs": [],
   "source": [
    "%%sql\n",
    "\n",
    "-- Notice the writers writers without a year_of_death are missing\n",
    "SELECT * \n",
    "FROM Writer \n",
    "WHERE YearOfDeath != 1936;"
   ]
  },
  {
   "cell_type": "markdown",
   "metadata": {
    "slideshow": {
     "slide_type": "slide"
    }
   },
   "source": [
    "#### NOT"
   ]
  },
  {
   "cell_type": "code",
   "execution_count": null,
   "metadata": {
    "collapsed": false,
    "slideshow": {
     "slide_type": "fragment"
    }
   },
   "outputs": [],
   "source": [
    "%%sql\n",
    "\n",
    "SELECT * \n",
    "FROM Writer \n",
    "WHERE NOT YearOfDeath IS 1936;"
   ]
  }
 ],
 "metadata": {
  "anaconda-cloud": {},
  "celltoolbar": "Slideshow",
  "kernelspec": {
   "display_name": "Python 3",
   "language": "python",
   "name": "python3"
  },
  "language_info": {
   "codemirror_mode": {
    "name": "ipython",
    "version": 3
   },
   "file_extension": ".py",
   "mimetype": "text/x-python",
   "name": "python",
   "nbconvert_exporter": "python",
   "pygments_lexer": "ipython3",
   "version": "3.5.2"
  }
 },
 "nbformat": 4,
 "nbformat_minor": 1
}
