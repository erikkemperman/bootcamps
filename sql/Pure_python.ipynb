{
 "cells": [
  {
   "cell_type": "markdown",
   "metadata": {
    "slideshow": {
     "slide_type": "slide"
    }
   },
   "source": [
    "# Introduction to SQL with Python\n",
    "### Examples without the '%sql' magic\n"
   ]
  },
  {
   "cell_type": "markdown",
   "metadata": {
    "slideshow": {
     "slide_type": "slide"
    }
   },
   "source": [
    "Import the sqlite3 module from the standard library."
   ]
  },
  {
   "cell_type": "code",
   "execution_count": null,
   "metadata": {
    "collapsed": false,
    "scrolled": true,
    "slideshow": {
     "slide_type": "fragment"
    }
   },
   "outputs": [],
   "source": [
    "import sqlite3"
   ]
  },
  {
   "cell_type": "markdown",
   "metadata": {
    "slideshow": {
     "slide_type": "slide"
    }
   },
   "source": [
    "#### Connecting"
   ]
  },
  {
   "cell_type": "code",
   "execution_count": null,
   "metadata": {
    "collapsed": false,
    "slideshow": {
     "slide_type": "fragment"
    }
   },
   "outputs": [],
   "source": [
    "db = sqlite3.connect(':memory:')\n",
    "cursor = db.cursor()"
   ]
  },
  {
   "cell_type": "markdown",
   "metadata": {
    "slideshow": {
     "slide_type": "slide"
    }
   },
   "source": [
    "#### CREATE\n",
    "\n",
    "We'll start by creating a table 'writer' with 4 columns : <br/>\n",
    "first name, last name, year of birth and year of death (omitting the column types for now)<br/>"
   ]
  },
  {
   "cell_type": "code",
   "execution_count": null,
   "metadata": {
    "collapsed": false,
    "slideshow": {
     "slide_type": "fragment"
    }
   },
   "outputs": [],
   "source": [
    "cursor.execute('''CREATE TABLE writer (first_name, last_name, year_of_birth, year_of_death);''')\n",
    "db.commit()"
   ]
  },
  {
   "cell_type": "markdown",
   "metadata": {
    "slideshow": {
     "slide_type": "slide"
    }
   },
   "source": [
    "#### DROP\n",
    "We can also drop tables.<br/>\n",
    "Make sure you know what you're doing!"
   ]
  },
  {
   "cell_type": "code",
   "execution_count": null,
   "metadata": {
    "collapsed": false,
    "slideshow": {
     "slide_type": "fragment"
    }
   },
   "outputs": [],
   "source": [
    "cursor.execute('''DROP TABLE writer;''')\n",
    "db.commit()"
   ]
  },
  {
   "cell_type": "markdown",
   "metadata": {
    "slideshow": {
     "slide_type": "fragment"
    }
   },
   "source": [
    "Selecting from a non-existing table produces a \"no such table\" error."
   ]
  },
  {
   "cell_type": "code",
   "execution_count": null,
   "metadata": {
    "collapsed": false,
    "slideshow": {
     "slide_type": "fragment"
    }
   },
   "outputs": [],
   "source": [
    "cursor.execute('''SELECT * FROM writer;''')"
   ]
  },
  {
   "cell_type": "code",
   "execution_count": null,
   "metadata": {
    "collapsed": false,
    "slideshow": {
     "slide_type": "skip"
    }
   },
   "outputs": [],
   "source": [
    "cursor.execute('''CREATE TABLE writer (first_name, last_name, year_of_birth, year_of_death);''')"
   ]
  },
  {
   "cell_type": "markdown",
   "metadata": {
    "slideshow": {
     "slide_type": "slide"
    }
   },
   "source": [
    "#### INSERT\n",
    "Let's insert some data into the table."
   ]
  },
  {
   "cell_type": "code",
   "execution_count": null,
   "metadata": {
    "collapsed": false,
    "slideshow": {
     "slide_type": "fragment"
    }
   },
   "outputs": [],
   "source": [
    "authors = [\n",
    "    ('William', 'Shakespeare', None, 1516),\n",
    "    ('Bertold', 'Brecht', 1898, 1956),\n",
    "    ('Ernest', 'Hemingway', 1899, 1961),\n",
    "    ('Oliver', 'Sacks', 1933, 2015), \n",
    "    ('Richard', 'Bird', 1943, None),\n",
    "    ('Hans Petter', 'Langtangen', 1962, None), \n",
    "    ('Jan Jacob', 'Slauerhoff', 1898, 1936),\n",
    "    ('William', 'Burroughs', 1914, 1987), \n",
    "    ('Ira', 'Kalet', 1944, None)\n",
    "]\n",
    "\n",
    "for author in authors:\n",
    "    cursor.execute('''INSERT INTO writer VALUES (?, ?, ?, ?);''', author)\n",
    "    \n",
    "# No output unless there are errors"
   ]
  },
  {
   "cell_type": "markdown",
   "metadata": {
    "slideshow": {
     "slide_type": "slide"
    }
   },
   "source": [
    "#### SELECT\n",
    "Verify the data is indeed in the database"
   ]
  },
  {
   "cell_type": "code",
   "execution_count": null,
   "metadata": {
    "collapsed": false,
    "slideshow": {
     "slide_type": "fragment"
    }
   },
   "outputs": [],
   "source": [
    "# Let's define this as a function, so we dan reuse it\n",
    "def verify():\n",
    "    for row in cursor.execute(\"\"\"SELECT * FROM writer;\"\"\"):\n",
    "        print(row)\n",
    "        \n",
    "verify()"
   ]
  },
  {
   "cell_type": "markdown",
   "metadata": {
    "slideshow": {
     "slide_type": "slide"
    }
   },
   "source": [
    "#### SELECT\n",
    "\n",
    "__*__ selects alle the columns.<br/>\n",
    "Specify the column names for a subset."
   ]
  },
  {
   "cell_type": "code",
   "execution_count": null,
   "metadata": {
    "collapsed": false,
    "slideshow": {
     "slide_type": "fragment"
    }
   },
   "outputs": [],
   "source": [
    "for row in cursor.execute(\"\"\"SELECT first_name, last_name FROM writer;\"\"\"):\n",
    "    print(row)"
   ]
  },
  {
   "cell_type": "markdown",
   "metadata": {
    "slideshow": {
     "slide_type": "slide"
    }
   },
   "source": [
    "#### UPDATE\n",
    "Unfortunately we made a mistake, William Burroughs passed away in 1997, not 1987.<br/>"
   ]
  },
  {
   "cell_type": "code",
   "execution_count": null,
   "metadata": {
    "collapsed": false,
    "slideshow": {
     "slide_type": "fragment"
    }
   },
   "outputs": [],
   "source": [
    "cursor.execute(\"\"\"UPDATE writer \n",
    "SET year_of_death = 1997 \n",
    "WHERE first_name = 'William' \n",
    "AND last_name = 'Burroughs';\"\"\")\n",
    "\n",
    "verify()"
   ]
  },
  {
   "cell_type": "markdown",
   "metadata": {
    "slideshow": {
     "slide_type": "slide"
    }
   },
   "source": [
    "#### DELETE\n",
    "It's also possible to delete rows.\n",
    "We'll start with a single row."
   ]
  },
  {
   "cell_type": "code",
   "execution_count": null,
   "metadata": {
    "collapsed": false,
    "slideshow": {
     "slide_type": "fragment"
    }
   },
   "outputs": [],
   "source": [
    "cursor.execute(\"\"\"\n",
    "DELETE FROM writer \n",
    "WHERE first_name = 'Ernest' \n",
    "AND last_name = 'Hemingway';\"\"\")\n",
    "\n",
    "verify()               "
   ]
  },
  {
   "cell_type": "markdown",
   "metadata": {
    "slideshow": {
     "slide_type": "slide"
    }
   },
   "source": [
    "Delete multiple rows."
   ]
  },
  {
   "cell_type": "code",
   "execution_count": null,
   "metadata": {
    "collapsed": false,
    "slideshow": {
     "slide_type": "fragment"
    }
   },
   "outputs": [],
   "source": [
    "cursor.execute(\"\"\"DELETE FROM writer \n",
    "WHERE first_name = 'William';\"\"\")\n",
    "\n",
    "verify()"
   ]
  },
  {
   "cell_type": "code",
   "execution_count": null,
   "metadata": {
    "collapsed": false,
    "slideshow": {
     "slide_type": "skip"
    }
   },
   "outputs": [],
   "source": [
    "# Re-insert the deleted rows\n",
    "authors = [\n",
    "    ('William', 'Shakespeare', None, 1616),\n",
    "    ('William', 'Burroughs', 1914, 1997),\n",
    "    ('Ernest', 'Hemingway', 1899, 1961)\n",
    "]\n",
    "\n",
    "for author in authors:\n",
    "    cursor.execute('''INSERT INTO writer VALUES (?, ?, ?, ?);''', author)"
   ]
  },
  {
   "cell_type": "markdown",
   "metadata": {
    "slideshow": {
     "slide_type": "slide"
    }
   },
   "source": [
    "### Simple queries\n",
    "\n",
    "#### WHERE\n",
    "Suppose we only want writers with the first name William."
   ]
  },
  {
   "cell_type": "code",
   "execution_count": null,
   "metadata": {
    "collapsed": false,
    "slideshow": {
     "slide_type": "fragment"
    }
   },
   "outputs": [],
   "source": [
    "cursor.execute(\"\"\"SELECT * \n",
    "FROM writer \n",
    "WHERE first_name = 'William';\"\"\")\n",
    "\n",
    "for row in cursor.fetchall():\n",
    "    print(row)"
   ]
  },
  {
   "cell_type": "markdown",
   "metadata": {
    "slideshow": {
     "slide_type": "slide"
    }
   },
   "source": [
    "#### AND\n",
    "Suppose we're not interested in just any William."
   ]
  },
  {
   "cell_type": "code",
   "execution_count": null,
   "metadata": {
    "collapsed": false,
    "slideshow": {
     "slide_type": "fragment"
    }
   },
   "outputs": [],
   "source": [
    "cursor.execute(\"\"\"SELECT * \n",
    "FROM writer \n",
    "WHERE first_name = 'William'\n",
    "AND last_name = 'Shakespeare';\"\"\")\n",
    "\n",
    "for row in cursor.fetchall():\n",
    "    print(row)"
   ]
  },
  {
   "cell_type": "markdown",
   "metadata": {
    "slideshow": {
     "slide_type": "slide"
    }
   },
   "source": [
    "#### OR\n",
    "What if we want every writer with the first name 'Bertold' or 'Oliver'."
   ]
  },
  {
   "cell_type": "code",
   "execution_count": null,
   "metadata": {
    "collapsed": false,
    "slideshow": {
     "slide_type": "fragment"
    }
   },
   "outputs": [],
   "source": [
    "cursor.execute(\"\"\"SELECT * \n",
    "FROM writer \n",
    "WHERE first_name = 'Bertold' \n",
    "OR first_name = 'Oliver';\"\"\")\n",
    "\n",
    "for row in cursor.fetchall():\n",
    "    print(row)"
   ]
  },
  {
   "cell_type": "markdown",
   "metadata": {
    "slideshow": {
     "slide_type": "slide"
    }
   },
   "source": [
    "#### IN\n",
    "When looking for a lot of first names, the query might become very long."
   ]
  },
  {
   "cell_type": "code",
   "execution_count": null,
   "metadata": {
    "collapsed": false,
    "slideshow": {
     "slide_type": "fragment"
    }
   },
   "outputs": [],
   "source": [
    "cursor.execute(\"\"\"SELECT * \n",
    "FROM writer \n",
    "WHERE first_name IN ('Bertold', 'Oliver');\"\"\")\n",
    "\n",
    "for row in cursor.fetchall():\n",
    "    print(row)"
   ]
  },
  {
   "cell_type": "markdown",
   "metadata": {
    "slideshow": {
     "slide_type": "slide"
    }
   },
   "source": [
    "#### ORDER\n",
    "List all the writers, ordered by their first name."
   ]
  },
  {
   "cell_type": "code",
   "execution_count": null,
   "metadata": {
    "collapsed": false,
    "slideshow": {
     "slide_type": "fragment"
    }
   },
   "outputs": [],
   "source": [
    "cursor.execute(\"\"\"SELECT * \n",
    "FROM writer \n",
    "ORDER BY first_name ASC;\"\"\")  # The default is ASC, in this case optional \n",
    "\n",
    "for row in cursor.fetchall():\n",
    "    print(row)"
   ]
  },
  {
   "cell_type": "markdown",
   "metadata": {
    "slideshow": {
     "slide_type": "slide"
    }
   },
   "source": [
    "#### ORDER\n",
    "Reverse order is also possible with the DESC keyword."
   ]
  },
  {
   "cell_type": "code",
   "execution_count": null,
   "metadata": {
    "collapsed": false,
    "slideshow": {
     "slide_type": "fragment"
    }
   },
   "outputs": [],
   "source": [
    "cursor.execute(\"\"\"SELECT * \n",
    "FROM writer \n",
    "ORDER BY first_name DESC;\"\"\")\n",
    "\n",
    "for row in cursor.fetchall():\n",
    "    print(row)"
   ]
  },
  {
   "cell_type": "markdown",
   "metadata": {
    "slideshow": {
     "slide_type": "slide"
    }
   },
   "source": [
    "### More syntax\n",
    "\n",
    "#### Operators\n",
    "SQL use the same comparison operators as Python (<, >, =)."
   ]
  },
  {
   "cell_type": "code",
   "execution_count": null,
   "metadata": {
    "collapsed": false,
    "slideshow": {
     "slide_type": "fragment"
    }
   },
   "outputs": [],
   "source": [
    "cursor.execute(\"\"\"SELECT * \n",
    "FROM writer \n",
    "WHERE year_of_death < 1960;\"\"\")\n",
    "\n",
    "for row in cursor.fetchall():\n",
    "    print(row)"
   ]
  },
  {
   "cell_type": "markdown",
   "metadata": {
    "slideshow": {
     "slide_type": "slide"
    }
   },
   "source": [
    "#### Operators"
   ]
  },
  {
   "cell_type": "code",
   "execution_count": null,
   "metadata": {
    "collapsed": false,
    "slideshow": {
     "slide_type": "-"
    }
   },
   "outputs": [],
   "source": [
    "cursor.execute(\"\"\"SELECT * \n",
    "FROM writer \n",
    "WHERE year_of_death >= 1961;\"\"\")\n",
    "\n",
    "for row in cursor.fetchall():\n",
    "    print(row)"
   ]
  },
  {
   "cell_type": "markdown",
   "metadata": {
    "slideshow": {
     "slide_type": "slide"
    }
   },
   "source": [
    "#### LIKE\n",
    "\n",
    "Use the LIKE operator in a WHERE clause to search for a specified pattern in a column.<br/>\n",
    "Use a '%' zero or more characters, '_' for a single character."
   ]
  },
  {
   "cell_type": "code",
   "execution_count": null,
   "metadata": {
    "collapsed": false,
    "slideshow": {
     "slide_type": "fragment"
    }
   },
   "outputs": [],
   "source": [
    "# Search for last names starting with 'slauer' (case-insensitive)\n",
    "cursor.execute(\"\"\"SELECT * \n",
    "FROM writer \n",
    "WHERE last_name LIKE 'slauer%';\"\"\")\n",
    "\n",
    "for row in cursor.fetchall():\n",
    "    print(row)"
   ]
  },
  {
   "cell_type": "markdown",
   "metadata": {
    "slideshow": {
     "slide_type": "slide"
    }
   },
   "source": [
    "#### LIKE"
   ]
  },
  {
   "cell_type": "code",
   "execution_count": null,
   "metadata": {
    "collapsed": false,
    "scrolled": true,
    "slideshow": {
     "slide_type": "fragment"
    }
   },
   "outputs": [],
   "source": [
    "# Search for last names containing an 'e'\n",
    "cursor.execute(\"\"\"SELECT * \n",
    "FROM writer \n",
    "WHERE last_name LIKE '%e%';\"\"\")\n",
    "\n",
    "for row in cursor.fetchall():\n",
    "    print(row)"
   ]
  },
  {
   "cell_type": "markdown",
   "metadata": {
    "slideshow": {
     "slide_type": "slide"
    }
   },
   "source": [
    "#### NULL\n",
    "Find all the writers still alive."
   ]
  },
  {
   "cell_type": "code",
   "execution_count": null,
   "metadata": {
    "collapsed": false,
    "slideshow": {
     "slide_type": "fragment"
    }
   },
   "outputs": [],
   "source": [
    "# NULL doesn't work with '='\n",
    "cursor.execute(\"\"\"SELECT * \n",
    "FROM writer \n",
    "WHERE year_of_death = NULL;\"\"\")\n",
    "\n",
    "for row in cursor.fetchall():\n",
    "    print(row)"
   ]
  },
  {
   "cell_type": "markdown",
   "metadata": {
    "slideshow": {
     "slide_type": "slide"
    }
   },
   "source": [
    "#### NULL"
   ]
  },
  {
   "cell_type": "code",
   "execution_count": null,
   "metadata": {
    "collapsed": false,
    "slideshow": {
     "slide_type": "fragment"
    }
   },
   "outputs": [],
   "source": [
    "# For NULL 'IS' is needed\n",
    "cursor.execute(\"\"\"SELECT * \n",
    "FROM writer \n",
    "WHERE year_of_death IS NULL;\"\"\")\n",
    "\n",
    "for row in cursor.fetchall():\n",
    "    print(row)"
   ]
  },
  {
   "cell_type": "markdown",
   "metadata": {
    "slideshow": {
     "slide_type": "slide"
    }
   },
   "source": [
    "#### NOT\n",
    "Find all the writers that didn't die in 1936."
   ]
  },
  {
   "cell_type": "code",
   "execution_count": null,
   "metadata": {
    "collapsed": false,
    "slideshow": {
     "slide_type": "fragment"
    }
   },
   "outputs": [],
   "source": [
    "# Notice the writers writers without a year_of_death are missing\n",
    "cursor.execute(\"\"\"SELECT * \n",
    "FROM writer \n",
    "WHERE year_of_death != 1936;\"\"\")\n",
    "\n",
    "for row in cursor.fetchall():\n",
    "    print(row)"
   ]
  },
  {
   "cell_type": "markdown",
   "metadata": {
    "slideshow": {
     "slide_type": "slide"
    }
   },
   "source": [
    "#### NOT"
   ]
  },
  {
   "cell_type": "code",
   "execution_count": null,
   "metadata": {
    "collapsed": false,
    "slideshow": {
     "slide_type": "fragment"
    }
   },
   "outputs": [],
   "source": [
    "# Notice the writers writers without a year_of_death are missing\n",
    "cursor.execute(\"\"\"SELECT * \n",
    "FROM writer \n",
    "WHERE NOT year_of_death IS 1936;\"\"\")\n",
    "\n",
    "for row in cursor.fetchall():\n",
    "    print(row)"
   ]
  },
  {
   "cell_type": "code",
   "execution_count": null,
   "metadata": {
    "collapsed": false,
    "slideshow": {
     "slide_type": "slide"
    }
   },
   "outputs": [],
   "source": [
    "# Make sure all changes are committed to the database\n",
    "db.commit()"
   ]
  },
  {
   "cell_type": "code",
   "execution_count": null,
   "metadata": {
    "collapsed": true,
    "slideshow": {
     "slide_type": "fragment"
    }
   },
   "outputs": [],
   "source": [
    "# Finally, close the connection\n",
    "db.close()"
   ]
  }
 ],
 "metadata": {
  "celltoolbar": "Slideshow",
  "kernelspec": {
   "display_name": "Python 3",
   "language": "python",
   "name": "python3"
  },
  "language_info": {
   "codemirror_mode": {
    "name": "ipython",
    "version": 3
   },
   "file_extension": ".py",
   "mimetype": "text/x-python",
   "name": "python",
   "nbconvert_exporter": "python",
   "pygments_lexer": "ipython3",
   "version": "3.5.2"
  }
 },
 "nbformat": 4,
 "nbformat_minor": 1
}
