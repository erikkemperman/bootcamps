{
 "cells": [
  {
   "cell_type": "code",
   "execution_count": null,
   "metadata": {
    "collapsed": false
   },
   "outputs": [],
   "source": [
    "# Install, if needed\n",
    "# !pip install --user ipython-sql\n",
    "\n",
    "# Load the SQL module (ignore the warning)\n",
    "%load_ext sql\n",
    "\n",
    "# Create a database in memory\n",
    "%sql sqlite://"
   ]
  },
  {
   "cell_type": "markdown",
   "metadata": {},
   "source": [
    "<hr style=\"height: 3px; margin: 0\" />\n",
    "### 1 A"
   ]
  },
  {
   "cell_type": "code",
   "execution_count": null,
   "metadata": {
    "collapsed": false
   },
   "outputs": [],
   "source": [
    "%%sql\n",
    "\n",
    "-- Create the table called 'Writer'\n",
    "CREATE TABLE Writer (\n",
    "    FirstName,\n",
    "    LastName,\n",
    "    YearOfBirth,\n",
    "    YearOfDeath\n",
    ");"
   ]
  },
  {
   "cell_type": "markdown",
   "metadata": {},
   "source": [
    "<hr style=\"height: 3px; margin: 0\" />\n",
    "### 1 B"
   ]
  },
  {
   "cell_type": "code",
   "execution_count": null,
   "metadata": {
    "collapsed": false
   },
   "outputs": [],
   "source": [
    "%%sql\n",
    "\n",
    "-- Insert the listed rows\n",
    "INSERT INTO Writer VALUES \n",
    "    ('William', 'Shakespeare', null, 1516),\n",
    "    ('Bertold', 'Brecht', 1898, 1956),\n",
    "    ('Ernest', 'Hemingway', 1899, 1961),\n",
    "    ('Oliver', 'Sacks', 1933, 2015), \n",
    "    ('Richard', 'Bird', 1943, null),\n",
    "    ('Hans Petter', 'Langtangen', 1962, null), \n",
    "    ('Jan Jacob', 'Slauerhoff', 1898, 1936),\n",
    "    ('William', 'Burroughs', 1914, 1987), \n",
    "    ('Ira', 'Kalet', 1944, null);"
   ]
  },
  {
   "cell_type": "markdown",
   "metadata": {},
   "source": [
    "<hr style=\"height: 3px; margin: 0\" />\n",
    "### 1 C"
   ]
  },
  {
   "cell_type": "code",
   "execution_count": null,
   "metadata": {
    "collapsed": false
   },
   "outputs": [],
   "source": [
    "%%sql\n",
    "\n",
    "-- Show a list of first names with year of birth\n",
    "SELECT FirstName, YearOfBirth\n",
    "FROM Writer;"
   ]
  },
  {
   "cell_type": "markdown",
   "metadata": {},
   "source": [
    "<hr style=\"height: 3px; margin: 0\" />\n",
    "### 1 D"
   ]
  },
  {
   "cell_type": "code",
   "execution_count": null,
   "metadata": {
    "collapsed": false
   },
   "outputs": [],
   "source": [
    "%%sql\n",
    "\n",
    "-- Try to find writers with first names ending in '...er'\n",
    "SELECT *\n",
    "FROM Writer\n",
    "WHERE FirstName\n",
    "LIKE '%er';"
   ]
  },
  {
   "cell_type": "markdown",
   "metadata": {},
   "source": [
    "<hr style=\"height: 3px; margin: 0\" />\n",
    "### 1 E"
   ]
  },
  {
   "cell_type": "code",
   "execution_count": null,
   "metadata": {
    "collapsed": false
   },
   "outputs": [],
   "source": [
    "%%sql\n",
    "\n",
    "-- Find the first name corresponding to the last name 'Shakespeare'\n",
    "SELECT FirstName\n",
    "FROM Writer\n",
    "WHERE LastName = 'Shakespeare';"
   ]
  },
  {
   "cell_type": "markdown",
   "metadata": {},
   "source": [
    "<hr style=\"height: 3px; margin: 0\" />\n",
    "### 1 F"
   ]
  },
  {
   "cell_type": "code",
   "execution_count": null,
   "metadata": {
    "collapsed": false
   },
   "outputs": [],
   "source": [
    "%%sql\n",
    "\n",
    "-- Select the writers born in the 19th century\n",
    "SELECT *\n",
    "FROM Writer\n",
    "WHERE YearOfBirth >= 1800 AND YearOfBirth < 1901;"
   ]
  },
  {
   "cell_type": "markdown",
   "metadata": {},
   "source": [
    "<hr style=\"height: 3px; margin: 0\" />\n",
    "### 1 G"
   ]
  },
  {
   "cell_type": "code",
   "execution_count": null,
   "metadata": {
    "collapsed": false
   },
   "outputs": [],
   "source": [
    "%%sql\n",
    "\n",
    "-- Select the writer that weren't born in a year ending in '...4'\n",
    "SELECT *\n",
    "FROM Writer\n",
    "WHERE NOT YearOfBirth LIKE '%4';"
   ]
  },
  {
   "cell_type": "markdown",
   "metadata": {},
   "source": [
    "<hr style=\"height: 3px; margin: 0\" />\n",
    "### 1 H"
   ]
  },
  {
   "cell_type": "code",
   "execution_count": null,
   "metadata": {
    "collapsed": false
   },
   "outputs": [],
   "source": [
    "%%sql\n",
    "\n",
    "-- Order the writers by year-of-death, omitting the writers still alive\n",
    "SELECT *\n",
    "FROM Writer\n",
    "WHERE NOT YearOfDeath IS NULL\n",
    "ORDER BY YearOfDeath;"
   ]
  },
  {
   "cell_type": "markdown",
   "metadata": {},
   "source": [
    "<hr style=\"height: 3px; margin: 0\" />\n",
    "### 1 I"
   ]
  },
  {
   "cell_type": "code",
   "execution_count": null,
   "metadata": {
    "collapsed": false
   },
   "outputs": [],
   "source": [
    "%%sql\n",
    "\n",
    "-- Same as above, but also omit writers with unknown year of birth\n",
    "SELECT *\n",
    "FROM Writer\n",
    "WHERE NOT YearOfDeath IS NULL\n",
    "AND NOT YearOfBirth IS NULL\n",
    "ORDER BY YearOfDeath;"
   ]
  }
 ],
 "metadata": {
  "kernelspec": {
   "display_name": "Python 3",
   "language": "python",
   "name": "python3"
  },
  "language_info": {
   "codemirror_mode": {
    "name": "ipython",
    "version": 3
   },
   "file_extension": ".py",
   "mimetype": "text/x-python",
   "name": "python",
   "nbconvert_exporter": "python",
   "pygments_lexer": "ipython3",
   "version": "3.5.2"
  }
 },
 "nbformat": 4,
 "nbformat_minor": 1
}
