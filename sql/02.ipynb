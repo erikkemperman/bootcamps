{
 "cells": [
  {
   "cell_type": "markdown",
   "metadata": {
    "slideshow": {
     "slide_type": "slide"
    }
   },
   "source": [
    "# Introduction to SQL with Python\n",
    "\n",
    "## Functions and types"
   ]
  },
  {
   "cell_type": "code",
   "execution_count": null,
   "metadata": {
    "collapsed": false,
    "slideshow": {
     "slide_type": "skip"
    }
   },
   "outputs": [],
   "source": [
    "# !pip install --user ipython-sql"
   ]
  },
  {
   "cell_type": "code",
   "execution_count": null,
   "metadata": {
    "collapsed": false,
    "slideshow": {
     "slide_type": "skip"
    }
   },
   "outputs": [],
   "source": [
    "%load_ext sql"
   ]
  },
  {
   "cell_type": "code",
   "execution_count": null,
   "metadata": {
    "collapsed": false,
    "slideshow": {
     "slide_type": "skip"
    }
   },
   "outputs": [],
   "source": [
    "%sql sqlite://"
   ]
  },
  {
   "cell_type": "code",
   "execution_count": null,
   "metadata": {
    "collapsed": false,
    "slideshow": {
     "slide_type": "skip"
    }
   },
   "outputs": [],
   "source": [
    "%%sql -- Re-create the database / table / rows\n",
    "CREATE TABLE writer (first_name, last_name, year_of_birth, year_of_death);\n",
    "INSERT INTO writer VALUES\n",
    "    ('William', 'Shakespeare', null, 1516),\n",
    "    ('Bertold', 'Brecht', 1898, 1956),\n",
    "    ('Ernest', 'Hemingway', 1899, 1961),\n",
    "    ('Oliver', 'Sacks', 1933, 2015),\n",
    "    ('Richard', 'Bird', 1943, null),\n",
    "    ('Hans Petter', 'Langtangen', 1962, null),\n",
    "    ('Jan Jacob', 'Slauerhoff', 1898, 1936),\n",
    "    ('William', 'Burroughs', 1914, 1997),\n",
    "    ('Ira', 'Kalet', 1944, null);\n"
   ]
  },
  {
   "cell_type": "markdown",
   "metadata": {
    "slideshow": {
     "slide_type": "slide"
    }
   },
   "source": [
    "### Expressions"
   ]
  },
  {
   "cell_type": "markdown",
   "metadata": {},
   "source": [
    "Just like in Python, SQL allows us to make complex expressions from simpler building blocks. For example, the usual arithmetic operators such as `+`, `-`, `*` and `/` are supported:"
   ]
  },
  {
   "cell_type": "code",
   "execution_count": null,
   "metadata": {
    "collapsed": false,
    "slideshow": {
     "slide_type": "fragment"
    }
   },
   "outputs": [],
   "source": [
    "%%sql SELECT first_name, last_name, (year_of_death - year_of_birth)\n",
    "FROM writer\n",
    "WHERE last_name LIKE 'S%';"
   ]
  },
  {
   "cell_type": "markdown",
   "metadata": {
    "slideshow": {
     "slide_type": "-"
    }
   },
   "source": [
    "The above goes wrong for writers that are still alive, but you get the idea. The parentheses here are not strictly required, but help visually group the different parts nicely."
   ]
  },
  {
   "cell_type": "markdown",
   "metadata": {
    "slideshow": {
     "slide_type": "slide"
    }
   },
   "source": [
    "Often the syntax of SQL expressions will be similar to what you've learned for Python, but one notable exception is concatenation of strings. In SQL this is done with two _pipe_ characters,\n",
    "like so:"
   ]
  },
  {
   "cell_type": "code",
   "execution_count": null,
   "metadata": {
    "collapsed": false,
    "slideshow": {
     "slide_type": "fragment"
    }
   },
   "outputs": [],
   "source": [
    "%%sql SELECT first_name || ' ' || last_name AS full_name\n",
    "FROM writer\n",
    "WHERE last_name LIKE 'S%';"
   ]
  },
  {
   "cell_type": "markdown",
   "metadata": {},
   "source": [
    "Notice that we used the <code>AS</code> keyword to give a name to the **full_name** column, which did not have a name because we effectively made it out of thin air here. Without such an alias, as in the previous slide, the result set will just use the expression itself as column header."
   ]
  },
  {
   "cell_type": "markdown",
   "metadata": {
    "slideshow": {
     "slide_type": "slide"
    }
   },
   "source": [
    "### Functions"
   ]
  },
  {
   "cell_type": "markdown",
   "metadata": {},
   "source": [
    "We can further composite expressions using functions. Unfortunately, this is one aspect in which different implementations of SQL database don't agree on syntax and exactly which functions to support... So you should probably keep a cheat sheet at hand for your DB when really digging in."
   ]
  },
  {
   "cell_type": "markdown",
   "metadata": {
    "slideshow": {
     "slide_type": "fragment"
    }
   },
   "source": [
    "Functions that you will definitely find useful include <code>COUNT</code>, <code>MIN</code>, <code>MAX</code>, <code>AVG</code>, and <code>DISTINCT</code>:"
   ]
  },
  {
   "cell_type": "code",
   "execution_count": null,
   "metadata": {
    "collapsed": false,
    "slideshow": {
     "slide_type": "-"
    }
   },
   "outputs": [],
   "source": [
    "%%sql SELECT COUNT(*) AS num_writers\n",
    "FROM writer;"
   ]
  },
  {
   "cell_type": "code",
   "execution_count": null,
   "metadata": {
    "collapsed": false,
    "slideshow": {
     "slide_type": "slide"
    }
   },
   "outputs": [],
   "source": [
    "%%sql SELECT MIN(year_of_birth), MAX(year_of_birth), AVG(year_of_birth)\n",
    "FROM writer;"
   ]
  },
  {
   "cell_type": "markdown",
   "metadata": {},
   "source": [
    "The last column above looks a bit strange, because we're not used to years with fractional parts. This gets us wondering about types, and we'll get back to that shortly."
   ]
  },
  {
   "cell_type": "code",
   "execution_count": null,
   "metadata": {
    "collapsed": false,
    "slideshow": {
     "slide_type": "slide"
    }
   },
   "outputs": [],
   "source": [
    "%%sql SELECT DISTINCT(first_name)\n",
    "FROM writer;"
   ]
  },
  {
   "cell_type": "markdown",
   "metadata": {
    "slideshow": {
     "slide_type": "slide"
    }
   },
   "source": [
    "We can of course also nest function calls, like so:"
   ]
  },
  {
   "cell_type": "code",
   "execution_count": null,
   "metadata": {
    "collapsed": false
   },
   "outputs": [],
   "source": [
    "%%sql SELECT COUNT(DISTINCT(first_name)) AS num_first_names\n",
    "FROM writer;"
   ]
  },
  {
   "cell_type": "markdown",
   "metadata": {
    "slideshow": {
     "slide_type": "slide"
    }
   },
   "source": [
    "To conclude this section, let's throw together some commonly used functions in one query:"
   ]
  },
  {
   "cell_type": "code",
   "execution_count": null,
   "metadata": {
    "collapsed": false,
    "slideshow": {
     "slide_type": "-"
    }
   },
   "outputs": [],
   "source": [
    "%%sql SELECT\n",
    "    LENGTH(first_name) AS length,\n",
    "    SUBSTR(first_name, 1, 1) AS initial,\n",
    "    UPPER(last_name) AS upper,\n",
    "    IFNULL(year_of_death, 2017) AS year\n",
    "FROM writer;"
   ]
  },
  {
   "cell_type": "markdown",
   "metadata": {
    "slideshow": {
     "slide_type": "slide"
    }
   },
   "source": [
    "It is slightly morbid, but substituting <code>2017</code> for the rows without year of death -- which is what <code>IFNULL</code> does above -- allows us to compute the **age** attribute like before, even for undeceased authors. For example, let's find our 5 eldest writers:"
   ]
  },
  {
   "cell_type": "code",
   "execution_count": null,
   "metadata": {
    "collapsed": false,
    "slideshow": {
     "slide_type": "fragment"
    }
   },
   "outputs": [],
   "source": [
    "%%sql \n",
    "SELECT \n",
    "    first_name, \n",
    "    last_name, \n",
    "    (IFNULL(year_of_death, 2017) - year_of_birth) AS age\n",
    "FROM writer\n",
    "ORDER BY age DESC\n",
    "LIMIT 5;"
   ]
  },
  {
   "cell_type": "markdown",
   "metadata": {
    "slideshow": {
     "slide_type": "slide"
    }
   },
   "source": [
    "Thusfar we've glossed over one important difference between arithmetic expressions and functions like <code>LENGTH</code> and <code>SUBSTR</code> on the one hand, which work horizontally per row (or on a single cell), and on the other hand functions like <code>COUNT</code>, <code>MIN</code> and <code>MAX</code>, which work vertically per column."
   ]
  },
  {
   "cell_type": "markdown",
   "metadata": {
    "slideshow": {
     "slide_type": "fragment"
    }
   },
   "source": [
    "Functions of the vertical persuasion can be applied to the column as a whole, i.e. all the rows in the table, as was done above. But they can also be made to target _groups_ of rows. We'll introduce one more useful function, <code>SUM</code> to demonstrate this:"
   ]
  },
  {
   "cell_type": "code",
   "execution_count": null,
   "metadata": {
    "collapsed": false,
    "slideshow": {
     "slide_type": "fragment"
    }
   },
   "outputs": [],
   "source": [
    "%%sql SELECT LENGTH(first_name) AS len, COUNT(*), SUM(year_of_death)\n",
    "FROM writer\n",
    "GROUP BY len;"
   ]
  },
  {
   "cell_type": "markdown",
   "metadata": {},
   "source": [
    "Note that we've used an alias **len** for the first column of the result set, and that we were able to refer back to it using that alias to write our <code>GROUP BY</code> clause."
   ]
  },
  {
   "cell_type": "markdown",
   "metadata": {
    "slideshow": {
     "slide_type": "slide"
    }
   },
   "source": [
    "It doesn't really tell us anything interesting, but what happened here is we've grouped together writers having the same number of characters in their first name. For each of these groups, we've counted how many writers it contains and summed together their years of death."
   ]
  },
  {
   "cell_type": "markdown",
   "metadata": {
    "slideshow": {
     "slide_type": "fragment"
    }
   },
   "source": [
    "This kind of grouping can be quite a powerful weapon, especially in queries where we glue together rows from several different tables using <code>JOIN</code>s. More about that later."
   ]
  },
  {
   "cell_type": "markdown",
   "metadata": {
    "slideshow": {
     "slide_type": "slide"
    }
   },
   "source": [
    "### Types"
   ]
  },
  {
   "cell_type": "markdown",
   "metadata": {},
   "source": [
    "When we created the <code>writer</code> table, we did not specify for each column what kind of data we expect it to hold. Usually we would do that, and in fact most database implementations demand it, but in our case the database just made an educated guess depending on what we insert."
   ]
  },
  {
   "cell_type": "markdown",
   "metadata": {
    "slideshow": {
     "slide_type": "fragment"
    }
   },
   "source": [
    "So let's try that again, but this time we're going to be more explicit about types:"
   ]
  },
  {
   "cell_type": "code",
   "execution_count": null,
   "metadata": {
    "collapsed": false,
    "slideshow": {
     "slide_type": "fragment"
    }
   },
   "outputs": [],
   "source": [
    "%sql DROP TABLE writer;"
   ]
  },
  {
   "cell_type": "code",
   "execution_count": null,
   "metadata": {
    "collapsed": false,
    "slideshow": {
     "slide_type": "fragment"
    }
   },
   "outputs": [],
   "source": [
    "%%sql \n",
    "CREATE TABLE writer (\n",
    "    first_name TEXT, \n",
    "    last_name TEXT, \n",
    "    year_of_birth INTEGER, \n",
    "    year_of_death INTEGER\n",
    ");"
   ]
  },
  {
   "cell_type": "code",
   "execution_count": null,
   "metadata": {
    "collapsed": false,
    "slideshow": {
     "slide_type": "skip"
    }
   },
   "outputs": [],
   "source": [
    "%%sql -- Re-populate the table\n",
    "INSERT INTO writer VALUES\n",
    "    ('William', 'Shakespeare', null, 1516),\n",
    "    ('Bertold', 'Brecht', 1898, 1956),\n",
    "    ('Ernest', 'Hemingway', 1899, 1961),\n",
    "    ('Oliver', 'Sacks', 1933, 2015),\n",
    "    ('Richard', 'Bird', 1943, null),\n",
    "    ('Hans Petter', 'Langtangen', 1962, null),\n",
    "    ('Jan Jacob', 'Slauerhoff', 1898, 1936),\n",
    "    ('William', 'Burroughs', 1914, 1997),\n",
    "    ('Ira', 'Kalet', 1944, null);\n"
   ]
  },
  {
   "cell_type": "markdown",
   "metadata": {
    "slideshow": {
     "slide_type": "slide"
    }
   },
   "source": [
    "Types are another aspect in which SQL implementations tend to have significant differences. For example, some would have us specify the possible lengths of <code>TEXT</code> fields, so that it can take that into account when allocating memory or diskspace. Others, like sqlite which we're using here, are more lenient in this regard."
   ]
  },
  {
   "cell_type": "markdown",
   "metadata": {
    "slideshow": {
     "slide_type": "fragment"
    }
   },
   "source": [
    "Generally though, there will be distinct types to contain textual data and numerical data. As in Python datatypes, it is sometimes important to distinguish numerical types further into integer (\"whole\") numbers and real (\"floating point\") numbers. We've already seen an aspect of this briefly when we were averaging years earlier."
   ]
  },
  {
   "cell_type": "markdown",
   "metadata": {
    "slideshow": {
     "slide_type": "fragment"
    }
   },
   "source": [
    "Often there will also be more specialized types, for instance for temporal data (to capture moments in time) or spatial data (such as latitude/longitude coordinates)."
   ]
  },
  {
   "cell_type": "markdown",
   "metadata": {
    "slideshow": {
     "slide_type": "slide"
    }
   },
   "source": [
    "Looking back at some of the operators and functions we've been using, it becomes apparent that some of them, like the <code>LENGTH</code> function and the concatenation operator <code>||</code>, expect their input to be strings. Whereas others, such as <code>AVG</code> and the various arithmetic operators, expect their operands to be numbers."
   ]
  },
  {
   "cell_type": "markdown",
   "metadata": {
    "slideshow": {
     "slide_type": "fragment"
    }
   },
   "source": [
    "Fortunately we can usually count on the database doing the \"right thing\" when we use a function on an unexpected data type, by coercing it to the right type.\n"
   ]
  },
  {
   "cell_type": "markdown",
   "metadata": {
    "slideshow": {
     "slide_type": "fragment"
    }
   },
   "source": [
    "We can also classify functions in terms of the types of value that they yield (return): <code>LENGTH</code> gives us back a number, but <code>SUBSTR</code> returns a string. Specialized types usually come with their own catalogues of functions, for example to deal with particulars of calendars (leap years and the like) or geodetic distance."
   ]
  },
  {
   "cell_type": "markdown",
   "metadata": {
    "slideshow": {
     "slide_type": "slide"
    }
   },
   "source": [
    "### Introducing the Chinook DB"
   ]
  },
  {
   "cell_type": "code",
   "execution_count": null,
   "metadata": {
    "collapsed": false,
    "slideshow": {
     "slide_type": "skip"
    }
   },
   "outputs": [],
   "source": [
    "# Deflate the Chinook database from ZIP\n",
    "from zipfile import ZipFile\n",
    "with ZipFile('Chinook.sqlite.zip') as zip:\n",
    "    zip.extractall()\n",
    "%sql sqlite:///Chinook.sqlite"
   ]
  },
  {
   "cell_type": "code",
   "execution_count": null,
   "metadata": {
    "collapsed": false,
    "slideshow": {
     "slide_type": "slide"
    }
   },
   "outputs": [],
   "source": [
    "%%sql\n",
    "\n",
    "-- Show some rows from Artist table\n",
    "SELECT *\n",
    "FROM Artist\n",
    "LIMIT 5;"
   ]
  },
  {
   "cell_type": "code",
   "execution_count": null,
   "metadata": {
    "collapsed": false,
    "slideshow": {
     "slide_type": "slide"
    }
   },
   "outputs": [],
   "source": [
    "%%sql\n",
    "\n",
    "-- Show some rows from Album table\n",
    "SELECT *\n",
    "FROM Album\n",
    "LIMIT 5;"
   ]
  },
  {
   "cell_type": "code",
   "execution_count": null,
   "metadata": {
    "collapsed": false,
    "slideshow": {
     "slide_type": "slide"
    }
   },
   "outputs": [],
   "source": [
    "%%sql\n",
    "\n",
    "-- Show some rows from Genre table\n",
    "SELECT *\n",
    "FROM Genre\n",
    "LIMIT 5;"
   ]
  },
  {
   "cell_type": "code",
   "execution_count": null,
   "metadata": {
    "collapsed": false,
    "slideshow": {
     "slide_type": "slide"
    }
   },
   "outputs": [],
   "source": [
    "%%sql\n",
    "\n",
    "-- Show some rows from Track table\n",
    "SELECT *\n",
    "FROM Track\n",
    "LIMIT 5;"
   ]
  }
 ],
 "metadata": {
  "anaconda-cloud": {},
  "celltoolbar": "Slideshow",
  "kernelspec": {
   "display_name": "Python 3",
   "language": "python",
   "name": "python3"
  },
  "language_info": {
   "codemirror_mode": {
    "name": "ipython",
    "version": 3
   },
   "file_extension": ".py",
   "mimetype": "text/x-python",
   "name": "python",
   "nbconvert_exporter": "python",
   "pygments_lexer": "ipython3",
   "version": "3.5.2"
  }
 },
 "nbformat": 4,
 "nbformat_minor": 1
}
