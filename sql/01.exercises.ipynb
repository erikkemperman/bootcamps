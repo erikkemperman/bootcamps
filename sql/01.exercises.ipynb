{
 "cells": [
  {
   "cell_type": "code",
   "execution_count": null,
   "metadata": {
    "collapsed": true
   },
   "outputs": [],
   "source": [
    "# Install, if needed\n",
    "# !pip install --user ipython-sql\n",
    "\n",
    "# Load the SQL module (ignore the warning)\n",
    "%load_ext sql\n",
    "\n",
    "# Create a database in memory\n",
    "%sql sqlite://"
   ]
  },
  {
   "cell_type": "markdown",
   "metadata": {},
   "source": [
    "<hr style=\"height: 3px; margin: 0\" />\n",
    "### 1 A"
   ]
  },
  {
   "cell_type": "markdown",
   "metadata": {
    "slideshow": {
     "slide_type": "slide"
    }
   },
   "source": [
    "Create the table called 'Writer' with the following columns:\n",
    "- FirstName\n",
    "- LastName\n",
    "- YearOfBirth\n",
    "- YearOfDeath"
   ]
  },
  {
   "cell_type": "code",
   "execution_count": null,
   "metadata": {
    "collapsed": false
   },
   "outputs": [],
   "source": [
    "%%sql\n",
    "\n",
    "-- Your code here"
   ]
  },
  {
   "cell_type": "markdown",
   "metadata": {},
   "source": [
    "<hr style=\"height: 3px; margin: 0\" />\n",
    "### 1 B"
   ]
  },
  {
   "cell_type": "markdown",
   "metadata": {},
   "source": [
    "Insert the following rows:\n",
    "- ('William', 'Shakespeare', NULL, 1516),\n",
    "- ('Bertold', 'Brecht', 1898, 1956),\n",
    "- ('Ernest', 'Hemingway', 1899, 1961),\n",
    "- ('Oliver', 'Sacks', 1933, 2015), \n",
    "- ('Richard', 'Bird', 1943, NULL),\n",
    "- ('Hans Petter', 'Langtangen', 1962, NULL), \n",
    "- ('Jan Jacob', 'Slauerhoff', 1898, 1936),\n",
    "- ('William', 'Burroughs', 1914, 1987), \n",
    "- ('Ira', 'Kalet', 1944, NULL)"
   ]
  },
  {
   "cell_type": "code",
   "execution_count": null,
   "metadata": {
    "collapsed": true
   },
   "outputs": [],
   "source": [
    "%%sql\n",
    "\n",
    "-- Your code here"
   ]
  },
  {
   "cell_type": "markdown",
   "metadata": {},
   "source": [
    "<hr style=\"height: 3px; margin: 0\" />\n",
    "### 1 C"
   ]
  },
  {
   "cell_type": "markdown",
   "metadata": {
    "collapsed": false,
    "slideshow": {
     "slide_type": "slide"
    },
    "solution": "hidden",
    "solution_first": true
   },
   "source": [
    "Show a list of first names with year of birth\n"
   ]
  },
  {
   "cell_type": "code",
   "execution_count": null,
   "metadata": {
    "collapsed": false
   },
   "outputs": [],
   "source": [
    "%%sql\n",
    "\n",
    "-- Your code here"
   ]
  },
  {
   "cell_type": "markdown",
   "metadata": {},
   "source": [
    "<hr style=\"height: 3px; margin: 0\" />\n",
    "### 1 D"
   ]
  },
  {
   "cell_type": "markdown",
   "metadata": {
    "collapsed": false,
    "slideshow": {
     "slide_type": "slide"
    },
    "solution": "hidden",
    "solution_first": true
   },
   "source": [
    "Try to find writers with first names ending in '...er'"
   ]
  },
  {
   "cell_type": "code",
   "execution_count": null,
   "metadata": {
    "collapsed": false,
    "slideshow": {
     "slide_type": "fragment"
    },
    "solution": "hidden"
   },
   "outputs": [],
   "source": [
    "%%sql\n",
    "\n",
    "-- Your code here"
   ]
  },
  {
   "cell_type": "markdown",
   "metadata": {},
   "source": [
    "<hr style=\"height: 3px; margin: 0\" />\n",
    "### 1 E"
   ]
  },
  {
   "cell_type": "markdown",
   "metadata": {
    "collapsed": false,
    "slideshow": {
     "slide_type": "slide"
    },
    "solution": "hidden",
    "solution_first": true
   },
   "source": [
    "Find the first name corresponding to the last name 'Shakespeare'\n"
   ]
  },
  {
   "cell_type": "code",
   "execution_count": null,
   "metadata": {
    "collapsed": false,
    "slideshow": {
     "slide_type": "fragment"
    },
    "solution": "hidden"
   },
   "outputs": [],
   "source": [
    "%%sql\n",
    "\n",
    "-- Your code here"
   ]
  },
  {
   "cell_type": "markdown",
   "metadata": {},
   "source": [
    "<hr style=\"height: 3px; margin: 0\" />\n",
    "### 1 F"
   ]
  },
  {
   "cell_type": "markdown",
   "metadata": {
    "collapsed": false,
    "slideshow": {
     "slide_type": "slide"
    },
    "solution": "hidden",
    "solution_first": true
   },
   "source": [
    "Select the writers born in the 19th century\n"
   ]
  },
  {
   "cell_type": "code",
   "execution_count": null,
   "metadata": {
    "collapsed": false,
    "slideshow": {
     "slide_type": "fragment"
    },
    "solution": "hidden"
   },
   "outputs": [],
   "source": [
    "%%sql\n",
    "\n",
    "-- Your code here"
   ]
  },
  {
   "cell_type": "markdown",
   "metadata": {},
   "source": [
    "<hr style=\"height: 3px; margin: 0\" />\n",
    "### 1 G"
   ]
  },
  {
   "cell_type": "markdown",
   "metadata": {
    "collapsed": false,
    "slideshow": {
     "slide_type": "slide"
    },
    "solution": "hidden",
    "solution_first": true
   },
   "source": [
    "Select the writer that weren't born in a year ending in '...4'\n"
   ]
  },
  {
   "cell_type": "code",
   "execution_count": null,
   "metadata": {
    "collapsed": false,
    "slideshow": {
     "slide_type": "fragment"
    },
    "solution": "hidden"
   },
   "outputs": [],
   "source": [
    "%%sql\n",
    "\n",
    "-- Your code here"
   ]
  },
  {
   "cell_type": "markdown",
   "metadata": {},
   "source": [
    "<hr style=\"height: 3px; margin: 0\" />\n",
    "### 1 H"
   ]
  },
  {
   "cell_type": "markdown",
   "metadata": {
    "collapsed": false,
    "slideshow": {
     "slide_type": "slide"
    },
    "solution": "hidden",
    "solution_first": true
   },
   "source": [
    "Order the writers by year-of-death, omitting the writers still alive\n"
   ]
  },
  {
   "cell_type": "code",
   "execution_count": null,
   "metadata": {
    "collapsed": false,
    "slideshow": {
     "slide_type": "fragment"
    },
    "solution": "hidden"
   },
   "outputs": [],
   "source": [
    "%%sql\n",
    "\n",
    "-- Your code here"
   ]
  },
  {
   "cell_type": "markdown",
   "metadata": {},
   "source": [
    "<hr style=\"height: 3px; margin: 0\" />\n",
    "### 1 I"
   ]
  },
  {
   "cell_type": "markdown",
   "metadata": {
    "collapsed": false,
    "slideshow": {
     "slide_type": "slide"
    },
    "solution": "hidden",
    "solution_first": true
   },
   "source": [
    "Same as above, but also omit writers with unknown year of birth\n"
   ]
  },
  {
   "cell_type": "code",
   "execution_count": null,
   "metadata": {
    "collapsed": false,
    "slideshow": {
     "slide_type": "fragment"
    },
    "solution": "hidden"
   },
   "outputs": [],
   "source": [
    "%%sql\n",
    "\n",
    "-- Your code here"
   ]
  }
 ],
 "metadata": {
  "anaconda-cloud": {},
  "kernelspec": {
   "display_name": "Python 3",
   "language": "python",
   "name": "python3"
  },
  "language_info": {
   "codemirror_mode": {
    "name": "ipython",
    "version": 3
   },
   "file_extension": ".py",
   "mimetype": "text/x-python",
   "name": "python",
   "nbconvert_exporter": "python",
   "pygments_lexer": "ipython3",
   "version": "3.5.2"
  }
 },
 "nbformat": 4,
 "nbformat_minor": 0
}
