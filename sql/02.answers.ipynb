{
 "cells": [
  {
   "cell_type": "code",
   "execution_count": null,
   "metadata": {
    "collapsed": false
   },
   "outputs": [],
   "source": [
    "# !pip install --user ipython-sql\n",
    "%load_ext sql\n",
    "\n",
    "# Deflate the Chinook database from ZIP\n",
    "from zipfile import ZipFile\n",
    "with ZipFile('Chinook.sqlite.zip') as zip:\n",
    "    zip.extractall()\n",
    "\n",
    "# Connect to the Chinook database\n",
    "%sql sqlite:///Chinook.sqlite"
   ]
  },
  {
   "cell_type": "markdown",
   "metadata": {},
   "source": [
    "<hr style=\"height: 3px; margin: 0\" />\n",
    "### 1 A"
   ]
  },
  {
   "cell_type": "code",
   "execution_count": null,
   "metadata": {
    "collapsed": false
   },
   "outputs": [],
   "source": [
    "%%sql\n",
    "\n",
    "-- How many artists are in the database?\n",
    "SELECT COUNT(*)\n",
    "FROM artist;"
   ]
  },
  {
   "cell_type": "markdown",
   "metadata": {},
   "source": [
    "<hr style=\"height: 3px; margin: 0\" />\n",
    "### 1 B"
   ]
  },
  {
   "cell_type": "code",
   "execution_count": null,
   "metadata": {
    "collapsed": false
   },
   "outputs": [],
   "source": [
    "%%sql\n",
    "\n",
    "-- How many albums are there with ArtistId 22?\n",
    "SELECT COUNT(*)\n",
    "FROM album\n",
    "WHERE ArtistId = 22;"
   ]
  },
  {
   "cell_type": "markdown",
   "metadata": {},
   "source": [
    "<hr style=\"height: 3px; margin: 0\" />\n",
    "### 1 C"
   ]
  },
  {
   "cell_type": "code",
   "execution_count": null,
   "metadata": {
    "collapsed": false
   },
   "outputs": [],
   "source": [
    "%%sql\n",
    "\n",
    "-- How many genres have 'Rock' in their name?\n",
    "SELECT COUNT(*)\n",
    "FROM genre\n",
    "WHERE Name LIKE '%Rock%';"
   ]
  },
  {
   "cell_type": "markdown",
   "metadata": {},
   "source": [
    "<hr style=\"height: 3px; margin: 0\" />\n",
    "### 1 D"
   ]
  },
  {
   "cell_type": "code",
   "execution_count": null,
   "metadata": {
    "collapsed": false
   },
   "outputs": [],
   "source": [
    "%%sql\n",
    "\n",
    "-- How many tracks are there with either GenreId = 1 or GenreId = 5?\n",
    "SELECT COUNT(*)\n",
    "FROM track\n",
    "WHERE GenreId = 1 OR GenreId = 5;"
   ]
  },
  {
   "cell_type": "markdown",
   "metadata": {},
   "source": [
    "<hr style=\"height: 3px; margin: 0\" />\n",
    "### 1 E"
   ]
  },
  {
   "cell_type": "code",
   "execution_count": null,
   "metadata": {
    "collapsed": false
   },
   "outputs": [],
   "source": [
    "%%sql\n",
    "\n",
    "-- What is the average track length in the database?\n",
    "SELECT AVG(Milliseconds)\n",
    "FROM track;"
   ]
  },
  {
   "cell_type": "markdown",
   "metadata": {},
   "source": [
    "<hr style=\"height: 3px; margin: 0\" />\n",
    "### 1 F"
   ]
  },
  {
   "cell_type": "code",
   "execution_count": null,
   "metadata": {
    "collapsed": false
   },
   "outputs": [],
   "source": [
    "%%sql\n",
    "\n",
    "-- Can you express this average length in minutes, instead of milliseconds?\n",
    "SELECT AVG(Milliseconds) / 60000 As Minutes\n",
    "FROM track;"
   ]
  },
  {
   "cell_type": "markdown",
   "metadata": {},
   "source": [
    "<hr style=\"height: 3px; margin: 0\" />\n",
    "### 1 G"
   ]
  },
  {
   "cell_type": "code",
   "execution_count": null,
   "metadata": {
    "collapsed": false
   },
   "outputs": [],
   "source": [
    "%%sql\n",
    "\n",
    "-- What is the number of bytes in the largest track in the 'Blues' genre (GenreId = 6)\n",
    "\n",
    "SELECT MAX(Bytes)\n",
    "FROM track\n",
    "WHERE GenreId = 6;"
   ]
  },
  {
   "cell_type": "markdown",
   "metadata": {},
   "source": [
    "<hr style=\"height: 3px; margin: 0\" />\n",
    "### 1 H"
   ]
  },
  {
   "cell_type": "code",
   "execution_count": null,
   "metadata": {
    "collapsed": false
   },
   "outputs": [],
   "source": [
    "%%sql\n",
    "\n",
    "-- Can you express this number in Megabytes, for convenience? (1 megabyte is 1048576 bytes)\n",
    "SELECT MAX(Bytes) / 1048576 AS Megabytes\n",
    "FROM track\n",
    "WHERE GenreId = 6;"
   ]
  },
  {
   "cell_type": "markdown",
   "metadata": {},
   "source": [
    "<hr style=\"height: 3px; margin: 0\" />\n",
    "### 1 I"
   ]
  },
  {
   "cell_type": "code",
   "execution_count": null,
   "metadata": {
    "collapsed": false
   },
   "outputs": [],
   "source": [
    "%%sql\n",
    "\n",
    "-- What would be the total price to buy all tracks of the 'Reggae' genre (GenreId = 8)\n",
    "SELECT SUM(UnitPrice)\n",
    "FROM track\n",
    "WHERE genreId = 8;"
   ]
  },
  {
   "cell_type": "markdown",
   "metadata": {},
   "source": [
    "<hr style=\"height: 3px; margin: 0\" />\n",
    "### 1 J"
   ]
  },
  {
   "cell_type": "code",
   "execution_count": null,
   "metadata": {
    "collapsed": false
   },
   "outputs": [],
   "source": [
    "%%sql\n",
    "\n",
    "-- What is the Name of the track with the largest number of characters?\n",
    "SELECT Name\n",
    "FROM track\n",
    "ORDER BY LENGTH(Name) DESC\n",
    "LIMIT 1;"
   ]
  }
 ],
 "metadata": {
  "kernelspec": {
   "display_name": "Python 3",
   "language": "python",
   "name": "python3"
  },
  "language_info": {
   "codemirror_mode": {
    "name": "ipython",
    "version": 3
   },
   "file_extension": ".py",
   "mimetype": "text/x-python",
   "name": "python",
   "nbconvert_exporter": "python",
   "pygments_lexer": "ipython3",
   "version": "3.5.2"
  }
 },
 "nbformat": 4,
 "nbformat_minor": 1
}
